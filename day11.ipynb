{
 "cells": [
  {
   "cell_type": "code",
   "execution_count": 1,
   "id": "3467c416-fe27-4742-9a2d-a7e44506781b",
   "metadata": {},
   "outputs": [
    {
     "data": {
      "text/plain": [
       "array([40, 49, 48, 47, 31, 36, 38, 48, 35, 46, 44, 49, 39, 45, 36])"
      ]
     },
     "execution_count": 1,
     "metadata": {},
     "output_type": "execute_result"
    }
   ],
   "source": [
    "import numpy as np\n",
    "a=np.random.randint(30,50,15 )\n",
    "a"
   ]
  },
  {
   "cell_type": "code",
   "execution_count": 42,
   "id": "14643cd2-935c-4762-a8c3-ceaba2679009",
   "metadata": {},
   "outputs": [
    {
     "data": {
      "text/plain": [
       "array([[33, 15, 18, 37, 44, 34, 31, 23],\n",
       "       [31, 29, 48, 25, 47, 39, 39, 18],\n",
       "       [30, 41, 26, 21, 28, 29, 17, 38],\n",
       "       [49, 47, 16, 15, 48, 22, 44, 35],\n",
       "       [23, 30, 25, 34, 42, 16, 39, 35],\n",
       "       [45, 45, 21, 45, 37, 48, 23, 47],\n",
       "       [30, 37, 37, 17, 45, 24, 44, 39]])"
      ]
     },
     "execution_count": 42,
     "metadata": {},
     "output_type": "execute_result"
    }
   ],
   "source": [
    "np.random.seed(94)\n",
    "b=np.random.randint(15,50,(7,8))\n",
    "b"
   ]
  },
  {
   "cell_type": "code",
   "execution_count": 50,
   "id": "f59c163c-5a4f-4033-8eea-972260e5a0b6",
   "metadata": {},
   "outputs": [
    {
     "data": {
      "text/plain": [
       "array([49, 47, 16, 15, 48, 22, 44, 35])"
      ]
     },
     "execution_count": 50,
     "metadata": {},
     "output_type": "execute_result"
    }
   ],
   "source": [
    "b[3]"
   ]
  },
  {
   "cell_type": "code",
   "execution_count": 52,
   "id": "c58c28dd-5c79-4886-915d-f84537bcfcfa",
   "metadata": {},
   "outputs": [
    {
     "data": {
      "text/plain": [
       "array([[49, 47, 16, 15, 48, 22, 44, 35],\n",
       "       [23, 30, 25, 34, 42, 16, 39, 35]])"
      ]
     },
     "execution_count": 52,
     "metadata": {},
     "output_type": "execute_result"
    }
   ],
   "source": [
    "b[3:5][0:4]"
   ]
  },
  {
   "cell_type": "code",
   "execution_count": 54,
   "id": "e0c5eddd-1c1d-4f2c-86a7-6c236ba09801",
   "metadata": {},
   "outputs": [
    {
     "data": {
      "text/plain": [
       "array([[33, 15, 18, 37, 44, 34, 31, 23],\n",
       "       [31, 29, 48, 25, 47, 39, 39, 18],\n",
       "       [30, 41, 26, 21, 28, 29, 17, 38],\n",
       "       [49, 47, 16, 15, 48, 22, 44, 35],\n",
       "       [23, 30, 25, 34, 42, 16, 39, 35],\n",
       "       [45, 45, 21, 45, 37, 48, 23, 47],\n",
       "       [30, 37, 37, 17, 45, 24, 44, 39]])"
      ]
     },
     "execution_count": 54,
     "metadata": {},
     "output_type": "execute_result"
    }
   ],
   "source": [
    "b"
   ]
  },
  {
   "cell_type": "code",
   "execution_count": 58,
   "id": "e0bdb140-c058-4bad-b830-7a2f817e8cc4",
   "metadata": {},
   "outputs": [
    {
     "data": {
      "text/plain": [
       "array([[49, 47, 16, 15],\n",
       "       [23, 30, 25, 34]])"
      ]
     },
     "execution_count": 58,
     "metadata": {},
     "output_type": "execute_result"
    }
   ],
   "source": [
    "b[3:5,0:4]"
   ]
  },
  {
   "cell_type": "code",
   "execution_count": 80,
   "id": "18188524-bf51-491a-b24a-4eade386f18c",
   "metadata": {},
   "outputs": [
    {
     "data": {
      "text/plain": [
       "array([[29, 48, 25, 47, 39, 39],\n",
       "       [41, 26, 21, 28, 29, 17],\n",
       "       [47, 16, 15, 48, 22, 44],\n",
       "       [30, 25, 34, 42, 16, 39],\n",
       "       [45, 21, 45, 37, 48, 23],\n",
       "       [37, 37, 17, 45, 24, 44]])"
      ]
     },
     "execution_count": 80,
     "metadata": {},
     "output_type": "execute_result"
    }
   ],
   "source": [
    "b[1:,1:7]"
   ]
  },
  {
   "cell_type": "code",
   "execution_count": 100,
   "id": "391b104a-88e1-45b9-bc3f-13b3cad2e98c",
   "metadata": {},
   "outputs": [
    {
     "data": {
      "text/plain": [
       "array([[29, 48, 25, 47, 39, 39],\n",
       "       [41, 26, 21, 28, 29, 17],\n",
       "       [47, 16, 15, 48, 22, 44],\n",
       "       [30, 25, 34, 42, 16, 39],\n",
       "       [45, 21, 45, 37, 48, 23],\n",
       "       [37, 37, 17, 45, 24, 44]])"
      ]
     },
     "execution_count": 100,
     "metadata": {},
     "output_type": "execute_result"
    }
   ],
   "source": [
    "b[-6::1,-7:-1:1]"
   ]
  },
  {
   "cell_type": "code",
   "execution_count": 102,
   "id": "1d6dde74-b55a-4de5-9c90-af557680aa0e",
   "metadata": {},
   "outputs": [
    {
     "data": {
      "text/plain": [
       "(array([0, 0, 0, 0, 0, 1, 1, 1, 1, 1, 2, 2, 3, 3, 3, 3, 3, 4, 4, 4, 4, 5,\n",
       "        5, 5, 5, 5, 5, 6, 6, 6, 6, 6], dtype=int64),\n",
       " array([0, 3, 4, 5, 6, 0, 2, 4, 5, 6, 1, 7, 0, 1, 4, 6, 7, 3, 4, 6, 7, 0,\n",
       "        1, 3, 4, 5, 7, 1, 2, 4, 6, 7], dtype=int64))"
      ]
     },
     "execution_count": 102,
     "metadata": {},
     "output_type": "execute_result"
    }
   ],
   "source": [
    "np.where(b>30)"
   ]
  },
  {
   "cell_type": "code",
   "execution_count": null,
   "id": "dd0f8028-2d07-4443-9dfc-1c2778a747eb",
   "metadata": {},
   "outputs": [],
   "source": []
  }
 ],
 "metadata": {
  "kernelspec": {
   "display_name": "Python [conda env:anaconda3]",
   "language": "python",
   "name": "conda-env-anaconda3-py"
  },
  "language_info": {
   "codemirror_mode": {
    "name": "ipython",
    "version": 3
   },
   "file_extension": ".py",
   "mimetype": "text/x-python",
   "name": "python",
   "nbconvert_exporter": "python",
   "pygments_lexer": "ipython3",
   "version": "3.12.7"
  }
 },
 "nbformat": 4,
 "nbformat_minor": 5
}
